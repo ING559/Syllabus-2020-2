{
 "cells": [
  {
   "cell_type": "markdown",
   "metadata": {},
   "source": [
    "# Actividad\n",
    "\n",
    "En esta actividad vas a tener que implementar una mejor versión del predictor para el _dataset_ del accidente del Titanic. Para esto tienes dos opciones:\n",
    "\n",
    "- Entrenar un predictor con el algoritmo _Random Forest_.\n",
    "- Entrenar un predictor con el algoritmo _AdaBoost_.\n",
    "\n",
    "Tu modelo, como mínimo, debe superar en _accuracy_ al `DummyClassifier`, y deseablemente, debe superar a la versión de _Random Forest_ utilizada en clases. Para mejorar el desempeño tienes algunas opciones:\n",
    "\n",
    "- Trabajar mejor las _features_.\n",
    "- No eliminar tantas filas debido a los nulos en la edad.\n",
    "- Encontrar mejores hiperparámetros para el predictor.\n",
    "\n",
    "Aunque evidentemente pueden haber más cosas.\n",
    "\n",
    "**Importante**: debes utilizar el mismo _dataset_, y cuando hagas _split_ de este, debes fijar el `random_state` en 42, para que tus resultados siempre sean iguales.\n",
    "\n",
    "## Qué se espera de la tarea\n",
    "\n",
    "En esta tarea vas a tener que explicar en detalle:\n",
    "\n",
    "- Cómo trabajaste las _features_.\n",
    "- Cómo encontraste los parámetros de tu modelo.\n",
    "\n",
    "Además, se espera que aparte del _accuracy_ obtengas la matriz de confusión, la precisión y el _recall_ de tu predictor. Finalmente, tienes que discutir los resultados, y entregar un análisis del comportamiento de tu predictor (ej. Funciona bien, mal, crees que puede mejorar, qué crees que hiciste bien, mal, etc.).\n",
    "\n",
    "## Bonus (0.5 pts)\n",
    "\n",
    "Si en vez de escoger una de las dos alternativas entre _Random Forest_ y _AdaBoost_ haces el análisis para ambos, te vas a llevar el bonus. Es necesario que solamente uno de ellos sea mejor que el modelo implementado en clases.\n",
    "\n",
    "## Sobre este _dataset_\n",
    "\n",
    "Este _dataset_ se ha propuesto como un [desafío introductiorio en Kaggle](https://www.kaggle.com/c/titanic). No es exactamente el mismo _dataset_, pero es bastante similar. Por lo mismo, puedes encontrar varios _notebooks_ y _posts_ en internet que hablan sobre cómo resolver de la mejor forma este desafío. Es importante que todo el código que uses **esté explicado y entiendas lo que hace**. Si estás ejecutando código que no sabes lo que hace, no estás aprendiendo, y el objetivo de esta tarea es que tengas un desafío real que te permita aprender.\n",
    "\n",
    "## Detalles académicos\n",
    "\n",
    "Esta actividad pueden realizarla en grupos de hasta dos personas. La entrega de esta actividad debe ser un archivo comprimido donde se encuentre un Jupyter Notebook con tu solución, junto a cualquier archivo que estés llamando desde tu código. La fecha de entrega es hasta el lunes 23 de noviembre hasta las 20:00 pm, cualquier entrega después de este plazo será calificada con la nota mínima. El archivo comprimido se entrega en el cuestionario correspondiente de Webcursos."
   ]
  },
  {
   "cell_type": "code",
   "execution_count": null,
   "metadata": {},
   "outputs": [],
   "source": []
  }
 ],
 "metadata": {
  "kernelspec": {
   "display_name": "Python 3",
   "language": "python",
   "name": "python3"
  },
  "language_info": {
   "codemirror_mode": {
    "name": "ipython",
    "version": 3
   },
   "file_extension": ".py",
   "mimetype": "text/x-python",
   "name": "python",
   "nbconvert_exporter": "python",
   "pygments_lexer": "ipython3",
   "version": "3.8.6"
  }
 },
 "nbformat": 4,
 "nbformat_minor": 4
}
