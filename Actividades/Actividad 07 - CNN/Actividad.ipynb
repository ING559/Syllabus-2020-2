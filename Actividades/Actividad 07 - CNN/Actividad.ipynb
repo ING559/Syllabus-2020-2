{
 "cells": [
  {
   "cell_type": "markdown",
   "metadata": {},
   "source": [
    "# Actividad\n",
    "\n",
    "La idea de esta actividad es que te familiarices con el flujo de trabajo necesario para entrenar y predecir con una red neuronal. Para esto debes hacer un clasificador de números del _dataset_ MNIST. La idea hacer un clasificador que diga que dígito está viendo. La idea es que el clasificador lo construyas con una red neuronal. En concreto se pide:\n",
    "\n",
    "### Parte 1 (4.5 pts)\n",
    "\n",
    "- Divide el _dataset_ MNIST en 70% de entrenamiento y 30% de prueba.\n",
    "- Entrena un modelo de Red Neuronal (puede ser MLP o CNN).\n",
    "- Prueba con varias configuraciones (ej. cambia la función de activación, el número de capas, el número de neuronas, etc) y detalla cuál crees que es la mejor forma de instanciar la red, analizando la matriz de confusión sobre los datos de prueba. Además describe en detalle todo el proceso de escoger los hiperparámetros.\n",
    "\n",
    "### Parte 2 (1.5 pts)\n",
    "\n",
    "Hay redes convolucionales que logran hasta 99% de accuracy sobre el _dataset_ MNIST. Averigua por tu cuenta qué configuración usa y descríbela.\n",
    "\n",
    "### Bonus (1 pto)\n",
    "\n",
    "Si escoges hacer la parte 1 con una **red convolucional** que logra un _accuracy_ destacable puedes tener nota máxima 8.\n",
    "\n",
    "## Detalles Académicos\n",
    "\n",
    "La actividad pueden realizarla en grupos de hasta dos personas. La entrega de esta actividad debe ser un archivo comprimido donde se encuentre un Jupyter Notebook con tu solución, junto a cualquier archivo que estés llamando desde tu código. La fecha de entrega es hasta el viernes 11 de diciembre hasta las 22:00 pm, cualquier entrega después de este plazo no será considerada. El archivo comprimido se entrega en el cuestionario correspondiente de Webcursos."
   ]
  },
  {
   "cell_type": "code",
   "execution_count": null,
   "metadata": {},
   "outputs": [],
   "source": []
  }
 ],
 "metadata": {
  "kernelspec": {
   "display_name": "Python 3",
   "language": "python",
   "name": "python3"
  },
  "language_info": {
   "codemirror_mode": {
    "name": "ipython",
    "version": 3
   },
   "file_extension": ".py",
   "mimetype": "text/x-python",
   "name": "python",
   "nbconvert_exporter": "python",
   "pygments_lexer": "ipython3",
   "version": "3.8.6"
  }
 },
 "nbformat": 4,
 "nbformat_minor": 4
}
