{
 "cells": [
  {
   "cell_type": "markdown",
   "metadata": {},
   "source": [
    "# Actividad (Bonus)\n",
    "\n",
    "Esta actividad servirá para probar el sistema para entregar las tareas y para que ustedes suelten las manos con Python. Esta tarea consta de 3 preguntas:\n",
    "\n",
    "- Buscando números primos (1 pto)\n",
    "- Creando una clase `Line` (2 pts)\n",
    "- Analizando un archivo `.csv` (3 pts)\n",
    "\n",
    "Cada punto será una décima que puedes sumar a una de tus actividades de clase a lo largo del semestre."
   ]
  },
  {
   "cell_type": "markdown",
   "metadata": {},
   "source": [
    "## Buscando números primos\n",
    "\n",
    "En la celda de abajo tienes un valor llamado `numero_inicial` y otro `numero_final`. Tienes que hacer un programa que te imprima todos los números primosentre esos dos números. Recuerda que el 1 no es primo y que un número mayor a 2 es primo si es divisible solamente por 1 y por si mismo.\n",
    "\n",
    "Ojo que tu programa debe ser válido para cualquier par de números de `input`. Asume que el mínimo valor de `numero_inicial` va a ser 1 y el máximo valor de `numero_final` va a ser 10000 y que siempre tendrás que\n",
    "`numero_inicial` $<$ `numero_final`."
   ]
  },
  {
   "cell_type": "code",
   "execution_count": 1,
   "metadata": {},
   "outputs": [],
   "source": [
    "numero_inicial = 1\n",
    "numero_final = 100\n",
    "\n",
    "# Haz un programa aquí que encuentre los primos\n",
    "# Dentro de lo posible, intenta utilizar funciones"
   ]
  },
  {
   "cell_type": "markdown",
   "metadata": {},
   "source": [
    "## Creando una clase Line\n",
    "\n",
    "En los ejemplos vimos una clase llamada `Point` que representaba un punto en el espacio. Ahora crearemos una clase `Line` que representa una recta en el espacio. El constructor debe recibir como parámetros dos puntos `p1` y `p2` y debe generar como atributos los valores `m` y `n` que representarán la pendiente y el coeficiente de posición respectivamente. Además debes implementar un método llamado `evaluate` que reciba un valor de `x` y te retorne el respectivo valor de `y` en la recta."
   ]
  },
  {
   "cell_type": "code",
   "execution_count": 2,
   "metadata": {},
   "outputs": [],
   "source": [
    "# La clase Point que puedes usar de base\n",
    "class Point:\n",
    "    def __init__(self, x, y):\n",
    "        self.x = x\n",
    "        self.y = y\n",
    "    \n",
    "    def move(self, delta_x, delta_y):\n",
    "        self.x = self.x + delta_x\n",
    "        self.y = self.y + delta_y\n",
    "    \n",
    "    def distance_to_0(self):\n",
    "        distance = (self.x**2 + self.y**2)**(1/2)\n",
    "        return distance\n",
    "        \n",
    "    def __str__(self):\n",
    "        return f'Punto de coordenadas ({self.x}, {self.y})'\n",
    "    \n",
    "# El template de la clase Line\n",
    "class Line:\n",
    "    def __init__(self, p1, p2):\n",
    "        # Aquí debes calcular el valor de m y n\n",
    "        # self.m = ...\n",
    "        # self.n = ...\n",
    "        pass # pass es no hacer nada\n",
    "    \n",
    "    def evaluate(self, x):\n",
    "        # Debes retornar el valor de y asociado\n",
    "        pass\n",
    "    \n",
    "# Ejemplo de cómo usar esto\n",
    "p1 = Point(1,3)\n",
    "p2 = Point(7, 14)\n",
    "l = Line(p1, p2)\n",
    "\n",
    "# y = Line.evaluate(4)\n",
    "# print(y)"
   ]
  },
  {
   "cell_type": "markdown",
   "metadata": {},
   "source": [
    "## Analizando un archivo .csv\n",
    "\n",
    "En esta pregunta vas a tener que analizar un archivo `.csv`, te recomendamos usar la librería para leer `.csv` de Python. El archivo contiene información de jugadores de una liga de fútbol y tiene tres columnas: la primera indica el nombre del jugador, la segunda el número de fecha del torneo (fecha 1, 2, 3...) y la tercera los goles que hizo en aquella fecha.\n",
    "\n",
    "En esta pregunta debes hacer: \n",
    "1. Una función que lea el `.csv` y te retorne una lista de tuplas con los datos.\n",
    "2. Una función que reciba la lista de tuplas y un intervalo de dos fechas, y te imprima el número de goles que se hicieron entre esas dos fechas.\n",
    "3. Una función que reciba la lista de tuplas y te imprima el número de goles por jugador, ordenados desde el que hizo más al que hizo menos goles. "
   ]
  },
  {
   "cell_type": "code",
   "execution_count": 3,
   "metadata": {},
   "outputs": [],
   "source": [
    "# Hacer el código para la pregunta aquí"
   ]
  },
  {
   "cell_type": "code",
   "execution_count": null,
   "metadata": {},
   "outputs": [],
   "source": []
  }
 ],
 "metadata": {
  "kernelspec": {
   "display_name": "Python 3",
   "language": "python",
   "name": "python3"
  },
  "language_info": {
   "codemirror_mode": {
    "name": "ipython",
    "version": 3
   },
   "file_extension": ".py",
   "mimetype": "text/x-python",
   "name": "python",
   "nbconvert_exporter": "python",
   "pygments_lexer": "ipython3",
   "version": "3.8.5"
  }
 },
 "nbformat": 4,
 "nbformat_minor": 4
}
