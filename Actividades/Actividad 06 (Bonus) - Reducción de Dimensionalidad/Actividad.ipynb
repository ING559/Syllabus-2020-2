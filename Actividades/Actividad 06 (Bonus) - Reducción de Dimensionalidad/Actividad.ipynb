{
 "cells": [
  {
   "cell_type": "markdown",
   "metadata": {},
   "source": [
    "# Actividad (Bonus)\n",
    "\n",
    "La idea de esta actividad es que compares el desempeño de clasificadores sobre el _dataset MNIST usando reducción de dimensionalidad y no usándolo. Entonces:\n",
    "\n",
    "- Tienes que construir un clasificador que entregue el dígito correspondiente.\n",
    "- Tienes que construir un clasificador que entregue el dígito correspondiente pero que haga reducción de dimensionalidad con PCA. Debes decidir tú cuantas dimensiones usar.\n",
    "\n",
    "Para ambos casos tienes que tomar los primeros 60,000 elementos como set de entrenamiento, y los siguientes como set de prueba. Para ambos casos tienes que presentar la matriz de confusión. Luego debes discutir:\n",
    "\n",
    "- Cómo escogiste el número de dimensiones a usar.\n",
    "- Discutir si se pierde mucho o no respecto al modelo que se entrena sobre todas las _features_. Para esto debes apoyarte en los resultados sobre los datos de prueba.\n",
    "\n",
    "## Detalles Académicos\n",
    "\n",
    "Esta actividad no lleva nota, pero sumará 6 décimas a alguna de tus actividades. La actividad pueden realizarla en grupos de hasta dos personas. La entrega de esta actividad debe ser un archivo comprimido donde se encuentre un Jupyter Notebook con tu solución, junto a cualquier archivo que estés llamando desde tu código. La fecha de entrega es hasta el viernes 27 de noviembre hasta las 20:00 pm, cualquier entrega después de este plazo no será considerada. El archivo comprimido se entrega en el cuestionario correspondiente de Webcursos."
   ]
  },
  {
   "cell_type": "code",
   "execution_count": null,
   "metadata": {},
   "outputs": [],
   "source": []
  }
 ],
 "metadata": {
  "kernelspec": {
   "display_name": "Python 3",
   "language": "python",
   "name": "python3"
  },
  "language_info": {
   "codemirror_mode": {
    "name": "ipython",
    "version": 3
   },
   "file_extension": ".py",
   "mimetype": "text/x-python",
   "name": "python",
   "nbconvert_exporter": "python",
   "pygments_lexer": "ipython3",
   "version": "3.8.6"
  }
 },
 "nbformat": 4,
 "nbformat_minor": 4
}
