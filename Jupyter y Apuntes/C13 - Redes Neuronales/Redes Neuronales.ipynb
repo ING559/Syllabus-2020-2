{
 "cells": [
  {
   "cell_type": "markdown",
   "metadata": {},
   "source": [
    "# Redes Neuronales\n",
    "\n",
    "En este _notebook_ vamos a aprender a trabajar con Redes Neuronales, que es la técnica más usada en la actualidad para resolver problemas del área de _Machine Learning_. Para esto, vamos a usar Tensorflow y Keras para armar una red neuronal que usa la arquitectura _Multi Layer Perceptron_, que es uno de los modelos sencillo, pero muy útil. Así, vamos a aprender a:\n",
    "\n",
    "- Instanciar una red neuronal.\n",
    "- Agregar _hidden layers_ con un número determinado de neuronas.\n",
    "- Definir las funciones de activación de las capas.\n",
    "- Entrenar una red neuronal, definiendo el tamaño de los _batches_ de entrenamiento y el número de _epochs_.\n",
    "- Hacer regresión con una Red Neuronal.\n",
    "\n",
    "Para esto necesitamos tener instalado Tensorflow. Esta es una librería que nos permite definir grafos de computo. Nosotros vamos a usar una interfaz de alto nivel sobre esta librería llamada _Keras_, que nos permite definir Redes Neuronales de forma muy sencilla. Para instalar Tensorflow se puede hacer con `pip`:\n",
    "\n",
    "```\n",
    "pip install tensorflow\n",
    "```\n",
    "\n",
    "Ahora vamos a entrenar una red neuronal sobre el _dataset Iris_."
   ]
  },
  {
   "cell_type": "code",
   "execution_count": 265,
   "metadata": {},
   "outputs": [
    {
     "name": "stdout",
     "output_type": "stream",
     "text": [
      "Model: \"sequential\"\n",
      "_________________________________________________________________\n",
      "Layer (type)                 Output Shape              Param #   \n",
      "=================================================================\n",
      "hidden_layer_1 (Dense)       (None, 5)                 15        \n",
      "_________________________________________________________________\n",
      "hidden_layer_2 (Dense)       (None, 10)                60        \n",
      "_________________________________________________________________\n",
      "output_layer (Dense)         (None, 3)                 33        \n",
      "=================================================================\n",
      "Total params: 108\n",
      "Trainable params: 108\n",
      "Non-trainable params: 0\n",
      "_________________________________________________________________\n"
     ]
    }
   ],
   "source": [
    "from tensorflow import keras\n",
    "from tensorflow.keras import layers\n",
    "\n",
    "# Siempre es buena práctica reiniciar el modelo\n",
    "keras.backend.clear_session()\n",
    "\n",
    "# Para tener resultados replicables descomentar las líneas de abajo\n",
    "# np.random.seed(42)\n",
    "# tf.random.set_seed(42)\n",
    "\n",
    "# Instanciamos un modelo \"Secuencial\", que corresponde a una secuencia de capas\n",
    "model = keras.Sequential(\n",
    "    [\n",
    "        layers.Dense(5, activation='relu', input_shape=(2,), name='hidden_layer_1'),\n",
    "        layers.Dense(10, activation='relu', name='hidden_layer_2'),\n",
    "        layers.Dense(3, activation='softmax', name='output_layer'),\n",
    "    ]\n",
    ")\n",
    "\n",
    "# Declaramos dos hidden layers: la primera con 5 neuronas y la segunda 10 neuronas cada una,\n",
    "# en la primera capa declaramos el tamaño del input y en la última capa declaramos una \n",
    "# una activación softmax para que el output represente una probabilidad\n",
    "\n",
    "# Obtenemos un resumen del modelo\n",
    "model.summary()"
   ]
  },
  {
   "cell_type": "markdown",
   "metadata": {},
   "source": [
    "Vemos que al indicar el resumen del modelo, el número de parámetros calza según lo visto en clases (recordemos que cada neurona tiene asociado un _bias_). Ahora vamos a entrenar nuestro modelo."
   ]
  },
  {
   "cell_type": "code",
   "execution_count": 266,
   "metadata": {},
   "outputs": [],
   "source": [
    "from sklearn.datasets import load_iris\n",
    "from sklearn.model_selection import train_test_split\n",
    "\n",
    "iris = load_iris()\n",
    "X = iris.data[:,2:] # Nos quedamos con el largo y ancho del pétalo\n",
    "y = iris.target\n",
    "\n",
    "# Hacemos la división\n",
    "X_train, X_test, y_train, y_test = train_test_split(X, y, test_size=0.3)\n",
    "\n",
    "# Compilamos la red neuronal\n",
    "# model.compile(loss='sparse_categorical_crossentropy',\n",
    "#               optimizer='sgd', metrics=['accuracy'])\n",
    "\n",
    "# Compilamos la red neuronal pero entregando una learning rate\n",
    "model.compile(loss='sparse_categorical_crossentropy',\n",
    "              optimizer=keras.optimizers.SGD(lr=0.01), metrics=['accuracy'])"
   ]
  },
  {
   "cell_type": "markdown",
   "metadata": {},
   "source": [
    "Algunas acotaciones sobre el la compilación del modelo:\n",
    "\n",
    "- Dado que en este modelo estamos usando variables categóricas exclusivas (es decir, una flor no puede ser de dos tipos), usamos `sparse_categorical_cross_entropy`. Si queremos que las clases no sean exclusivas, utilizamos `categorical_cross_entropy`, pero las categorías deben estar con _encoding one hot_.\n",
    "- `sgd` es para utilizar _Stochastic Gradient Descent_.\n",
    "- `accuracy` es para que se nos muestre el _accuracy_ durante el entrenamiento.\n",
    "- Para clasificación binaria, en vez de una activación `softmax` se usa una activación `sigmoid`, además la función de pérdida pasa a ser `binary_crossentropy`.\n",
    "\n",
    "Ahora vamos a hacer `fit` del modelo."
   ]
  },
  {
   "cell_type": "code",
   "execution_count": 267,
   "metadata": {},
   "outputs": [
    {
     "name": "stdout",
     "output_type": "stream",
     "text": [
      "Epoch 1/200\n",
      "7/7 [==============================] - 0s 1ms/step - loss: 1.2025 - accuracy: 0.2476\n",
      "Epoch 2/200\n",
      "7/7 [==============================] - 0s 1ms/step - loss: 1.0868 - accuracy: 0.2571\n",
      "Epoch 3/200\n",
      "7/7 [==============================] - 0s 996us/step - loss: 1.0466 - accuracy: 0.3238\n",
      "Epoch 4/200\n",
      "7/7 [==============================] - 0s 1ms/step - loss: 1.0227 - accuracy: 0.3238\n",
      "Epoch 5/200\n",
      "7/7 [==============================] - 0s 2ms/step - loss: 1.0164 - accuracy: 0.3238\n",
      "Epoch 6/200\n",
      "7/7 [==============================] - 0s 1ms/step - loss: 0.9995 - accuracy: 0.3238\n",
      "Epoch 7/200\n",
      "7/7 [==============================] - 0s 1ms/step - loss: 0.9973 - accuracy: 0.3238\n",
      "Epoch 8/200\n",
      "7/7 [==============================] - 0s 1ms/step - loss: 0.9886 - accuracy: 0.3238\n",
      "Epoch 9/200\n",
      "7/7 [==============================] - 0s 1ms/step - loss: 0.9797 - accuracy: 0.3238\n",
      "Epoch 10/200\n",
      "7/7 [==============================] - 0s 1ms/step - loss: 0.9722 - accuracy: 0.3238\n",
      "Epoch 11/200\n",
      "7/7 [==============================] - 0s 2ms/step - loss: 0.9686 - accuracy: 0.3238\n",
      "Epoch 12/200\n",
      "7/7 [==============================] - 0s 1ms/step - loss: 0.9679 - accuracy: 0.3238\n",
      "Epoch 13/200\n",
      "7/7 [==============================] - 0s 1ms/step - loss: 0.9590 - accuracy: 0.3238\n",
      "Epoch 14/200\n",
      "7/7 [==============================] - 0s 1ms/step - loss: 0.9560 - accuracy: 0.3238\n",
      "Epoch 15/200\n",
      "7/7 [==============================] - 0s 1ms/step - loss: 0.9524 - accuracy: 0.3238\n",
      "Epoch 16/200\n",
      "7/7 [==============================] - 0s 1ms/step - loss: 0.9439 - accuracy: 0.3333\n",
      "Epoch 17/200\n",
      "7/7 [==============================] - 0s 1ms/step - loss: 0.9362 - accuracy: 0.3238\n",
      "Epoch 18/200\n",
      "7/7 [==============================] - 0s 2ms/step - loss: 0.9324 - accuracy: 0.3238\n",
      "Epoch 19/200\n",
      "7/7 [==============================] - 0s 2ms/step - loss: 0.9269 - accuracy: 0.3238\n",
      "Epoch 20/200\n",
      "7/7 [==============================] - 0s 940us/step - loss: 0.9242 - accuracy: 0.3333\n",
      "Epoch 21/200\n",
      "7/7 [==============================] - 0s 1ms/step - loss: 0.9221 - accuracy: 0.3333\n",
      "Epoch 22/200\n",
      "7/7 [==============================] - 0s 1ms/step - loss: 0.9217 - accuracy: 0.3238\n",
      "Epoch 23/200\n",
      "7/7 [==============================] - 0s 981us/step - loss: 0.9082 - accuracy: 0.3333\n",
      "Epoch 24/200\n",
      "7/7 [==============================] - 0s 1ms/step - loss: 0.9092 - accuracy: 0.3238\n",
      "Epoch 25/200\n",
      "7/7 [==============================] - 0s 2ms/step - loss: 0.8975 - accuracy: 0.3238\n",
      "Epoch 26/200\n",
      "7/7 [==============================] - 0s 2ms/step - loss: 0.8935 - accuracy: 0.3333\n",
      "Epoch 27/200\n",
      "7/7 [==============================] - 0s 2ms/step - loss: 0.8887 - accuracy: 0.3524\n",
      "Epoch 28/200\n",
      "7/7 [==============================] - 0s 2ms/step - loss: 0.8894 - accuracy: 0.3619\n",
      "Epoch 29/200\n",
      "7/7 [==============================] - 0s 1ms/step - loss: 0.8787 - accuracy: 0.3429\n",
      "Epoch 30/200\n",
      "7/7 [==============================] - 0s 889us/step - loss: 0.8753 - accuracy: 0.3429\n",
      "Epoch 31/200\n",
      "7/7 [==============================] - 0s 901us/step - loss: 0.8687 - accuracy: 0.3714\n",
      "Epoch 32/200\n",
      "7/7 [==============================] - 0s 2ms/step - loss: 0.8705 - accuracy: 0.3524\n",
      "Epoch 33/200\n",
      "7/7 [==============================] - 0s 2ms/step - loss: 0.8616 - accuracy: 0.3619\n",
      "Epoch 34/200\n",
      "7/7 [==============================] - 0s 2ms/step - loss: 0.8548 - accuracy: 0.4095\n",
      "Epoch 35/200\n",
      "7/7 [==============================] - 0s 2ms/step - loss: 0.8526 - accuracy: 0.4286\n",
      "Epoch 36/200\n",
      "7/7 [==============================] - 0s 3ms/step - loss: 0.8542 - accuracy: 0.4381\n",
      "Epoch 37/200\n",
      "7/7 [==============================] - 0s 2ms/step - loss: 0.8422 - accuracy: 0.4476\n",
      "Epoch 38/200\n",
      "7/7 [==============================] - 0s 1ms/step - loss: 0.8421 - accuracy: 0.4857\n",
      "Epoch 39/200\n",
      "7/7 [==============================] - 0s 2ms/step - loss: 0.8310 - accuracy: 0.5048\n",
      "Epoch 40/200\n",
      "7/7 [==============================] - 0s 1ms/step - loss: 0.8287 - accuracy: 0.5238\n",
      "Epoch 41/200\n",
      "7/7 [==============================] - 0s 1ms/step - loss: 0.8214 - accuracy: 0.5429\n",
      "Epoch 42/200\n",
      "7/7 [==============================] - 0s 1ms/step - loss: 0.8202 - accuracy: 0.5905\n",
      "Epoch 43/200\n",
      "7/7 [==============================] - 0s 1ms/step - loss: 0.8129 - accuracy: 0.6190\n",
      "Epoch 44/200\n",
      "7/7 [==============================] - 0s 844us/step - loss: 0.8078 - accuracy: 0.5619\n",
      "Epoch 45/200\n",
      "7/7 [==============================] - 0s 1ms/step - loss: 0.8057 - accuracy: 0.6381\n",
      "Epoch 46/200\n",
      "7/7 [==============================] - 0s 836us/step - loss: 0.7981 - accuracy: 0.6381\n",
      "Epoch 47/200\n",
      "7/7 [==============================] - 0s 1ms/step - loss: 0.7972 - accuracy: 0.6667\n",
      "Epoch 48/200\n",
      "7/7 [==============================] - 0s 980us/step - loss: 0.7928 - accuracy: 0.7143\n",
      "Epoch 49/200\n",
      "7/7 [==============================] - 0s 849us/step - loss: 0.7852 - accuracy: 0.7048\n",
      "Epoch 50/200\n",
      "7/7 [==============================] - 0s 2ms/step - loss: 0.7875 - accuracy: 0.6952\n",
      "Epoch 51/200\n",
      "7/7 [==============================] - 0s 1ms/step - loss: 0.7797 - accuracy: 0.6762\n",
      "Epoch 52/200\n",
      "7/7 [==============================] - 0s 2ms/step - loss: 0.7746 - accuracy: 0.7333\n",
      "Epoch 53/200\n",
      "7/7 [==============================] - 0s 2ms/step - loss: 0.7693 - accuracy: 0.7048\n",
      "Epoch 54/200\n",
      "7/7 [==============================] - 0s 1ms/step - loss: 0.7637 - accuracy: 0.7048\n",
      "Epoch 55/200\n",
      "7/7 [==============================] - 0s 1ms/step - loss: 0.7627 - accuracy: 0.6762\n",
      "Epoch 56/200\n",
      "7/7 [==============================] - 0s 2ms/step - loss: 0.7578 - accuracy: 0.7238\n",
      "Epoch 57/200\n",
      "7/7 [==============================] - 0s 2ms/step - loss: 0.7524 - accuracy: 0.7524\n",
      "Epoch 58/200\n",
      "7/7 [==============================] - 0s 3ms/step - loss: 0.7460 - accuracy: 0.7238\n",
      "Epoch 59/200\n",
      "7/7 [==============================] - 0s 1ms/step - loss: 0.7456 - accuracy: 0.7143\n",
      "Epoch 60/200\n",
      "7/7 [==============================] - 0s 4ms/step - loss: 0.7438 - accuracy: 0.7238\n",
      "Epoch 61/200\n",
      "7/7 [==============================] - 0s 961us/step - loss: 0.7342 - accuracy: 0.7429\n",
      "Epoch 62/200\n",
      "7/7 [==============================] - 0s 1ms/step - loss: 0.7305 - accuracy: 0.7714\n",
      "Epoch 63/200\n",
      "7/7 [==============================] - 0s 1ms/step - loss: 0.7283 - accuracy: 0.7143\n",
      "Epoch 64/200\n",
      "7/7 [==============================] - 0s 1ms/step - loss: 0.7245 - accuracy: 0.7333\n",
      "Epoch 65/200\n",
      "7/7 [==============================] - 0s 955us/step - loss: 0.7182 - accuracy: 0.7333\n",
      "Epoch 66/200\n",
      "7/7 [==============================] - 0s 1ms/step - loss: 0.7175 - accuracy: 0.7333\n",
      "Epoch 67/200\n",
      "7/7 [==============================] - 0s 890us/step - loss: 0.7133 - accuracy: 0.7143\n",
      "Epoch 68/200\n",
      "7/7 [==============================] - 0s 1ms/step - loss: 0.7081 - accuracy: 0.8095\n",
      "Epoch 69/200\n",
      "7/7 [==============================] - 0s 900us/step - loss: 0.7062 - accuracy: 0.8286\n",
      "Epoch 70/200\n",
      "7/7 [==============================] - 0s 1ms/step - loss: 0.7004 - accuracy: 0.7429\n",
      "Epoch 71/200\n",
      "7/7 [==============================] - 0s 1ms/step - loss: 0.6978 - accuracy: 0.7333\n",
      "Epoch 72/200\n",
      "7/7 [==============================] - 0s 2ms/step - loss: 0.6911 - accuracy: 0.7810\n",
      "Epoch 73/200\n",
      "7/7 [==============================] - 0s 2ms/step - loss: 0.6862 - accuracy: 0.7333\n",
      "Epoch 74/200\n",
      "7/7 [==============================] - 0s 990us/step - loss: 0.6835 - accuracy: 0.8762\n",
      "Epoch 75/200\n",
      "7/7 [==============================] - 0s 2ms/step - loss: 0.6812 - accuracy: 0.7810\n",
      "Epoch 76/200\n",
      "7/7 [==============================] - 0s 2ms/step - loss: 0.6773 - accuracy: 0.7143\n",
      "Epoch 77/200\n",
      "7/7 [==============================] - 0s 1ms/step - loss: 0.6740 - accuracy: 0.7238\n",
      "Epoch 78/200\n",
      "7/7 [==============================] - 0s 1ms/step - loss: 0.6680 - accuracy: 0.8000\n",
      "Epoch 79/200\n",
      "7/7 [==============================] - 0s 1ms/step - loss: 0.6651 - accuracy: 0.7905\n",
      "Epoch 80/200\n",
      "7/7 [==============================] - 0s 2ms/step - loss: 0.6609 - accuracy: 0.7810\n",
      "Epoch 81/200\n",
      "7/7 [==============================] - 0s 2ms/step - loss: 0.6572 - accuracy: 0.7714\n",
      "Epoch 82/200\n",
      "7/7 [==============================] - 0s 1ms/step - loss: 0.6568 - accuracy: 0.7524\n",
      "Epoch 83/200\n",
      "7/7 [==============================] - 0s 2ms/step - loss: 0.6496 - accuracy: 0.7905\n",
      "Epoch 84/200\n",
      "7/7 [==============================] - 0s 980us/step - loss: 0.6448 - accuracy: 0.7429\n",
      "Epoch 85/200\n",
      "7/7 [==============================] - 0s 2ms/step - loss: 0.6445 - accuracy: 0.7429\n",
      "Epoch 86/200\n",
      "7/7 [==============================] - 0s 1ms/step - loss: 0.6394 - accuracy: 0.7619\n",
      "Epoch 87/200\n",
      "7/7 [==============================] - 0s 2ms/step - loss: 0.6365 - accuracy: 0.7619\n",
      "Epoch 88/200\n",
      "7/7 [==============================] - 0s 1ms/step - loss: 0.6343 - accuracy: 0.7714\n",
      "Epoch 89/200\n",
      "7/7 [==============================] - 0s 2ms/step - loss: 0.6294 - accuracy: 0.8190\n",
      "Epoch 90/200\n",
      "7/7 [==============================] - 0s 2ms/step - loss: 0.6243 - accuracy: 0.8095\n",
      "Epoch 91/200\n",
      "7/7 [==============================] - 0s 2ms/step - loss: 0.6232 - accuracy: 0.8190\n",
      "Epoch 92/200\n",
      "7/7 [==============================] - 0s 1ms/step - loss: 0.6200 - accuracy: 0.7714\n",
      "Epoch 93/200\n",
      "7/7 [==============================] - 0s 1ms/step - loss: 0.6122 - accuracy: 0.7810\n",
      "Epoch 94/200\n",
      "7/7 [==============================] - 0s 1ms/step - loss: 0.6090 - accuracy: 0.7905\n",
      "Epoch 95/200\n",
      "7/7 [==============================] - 0s 1ms/step - loss: 0.6072 - accuracy: 0.7810\n",
      "Epoch 96/200\n",
      "7/7 [==============================] - 0s 2ms/step - loss: 0.6039 - accuracy: 0.7714\n",
      "Epoch 97/200\n",
      "7/7 [==============================] - 0s 2ms/step - loss: 0.6015 - accuracy: 0.8476\n",
      "Epoch 98/200\n",
      "7/7 [==============================] - 0s 2ms/step - loss: 0.6007 - accuracy: 0.8667\n",
      "Epoch 99/200\n",
      "7/7 [==============================] - 0s 2ms/step - loss: 0.5983 - accuracy: 0.8667\n",
      "Epoch 100/200\n",
      "7/7 [==============================] - 0s 1ms/step - loss: 0.5905 - accuracy: 0.7619\n",
      "Epoch 101/200\n",
      "7/7 [==============================] - 0s 2ms/step - loss: 0.5876 - accuracy: 0.8571\n",
      "Epoch 102/200\n",
      "7/7 [==============================] - 0s 2ms/step - loss: 0.5875 - accuracy: 0.7429\n",
      "Epoch 103/200\n",
      "7/7 [==============================] - 0s 2ms/step - loss: 0.5803 - accuracy: 0.7905\n",
      "Epoch 104/200\n",
      "7/7 [==============================] - 0s 1ms/step - loss: 0.5785 - accuracy: 0.7429\n",
      "Epoch 105/200\n",
      "7/7 [==============================] - 0s 2ms/step - loss: 0.5739 - accuracy: 0.8952\n",
      "Epoch 106/200\n",
      "7/7 [==============================] - 0s 1ms/step - loss: 0.5745 - accuracy: 0.8286\n",
      "Epoch 107/200\n",
      "7/7 [==============================] - 0s 2ms/step - loss: 0.5673 - accuracy: 0.8667\n",
      "Epoch 108/200\n",
      "7/7 [==============================] - 0s 1ms/step - loss: 0.5704 - accuracy: 0.8286\n",
      "Epoch 109/200\n",
      "7/7 [==============================] - 0s 2ms/step - loss: 0.5610 - accuracy: 0.8571\n",
      "Epoch 110/200\n",
      "7/7 [==============================] - 0s 1ms/step - loss: 0.5597 - accuracy: 0.8571\n",
      "Epoch 111/200\n",
      "7/7 [==============================] - 0s 2ms/step - loss: 0.5553 - accuracy: 0.8857\n",
      "Epoch 112/200\n",
      "7/7 [==============================] - 0s 1ms/step - loss: 0.5564 - accuracy: 0.8190\n",
      "Epoch 113/200\n",
      "7/7 [==============================] - 0s 1ms/step - loss: 0.5495 - accuracy: 0.8095\n",
      "Epoch 114/200\n",
      "7/7 [==============================] - 0s 1ms/step - loss: 0.5477 - accuracy: 0.8571\n",
      "Epoch 115/200\n",
      "7/7 [==============================] - 0s 2ms/step - loss: 0.5448 - accuracy: 0.8857\n",
      "Epoch 116/200\n",
      "7/7 [==============================] - 0s 913us/step - loss: 0.5436 - accuracy: 0.8952\n",
      "Epoch 117/200\n",
      "7/7 [==============================] - 0s 2ms/step - loss: 0.5385 - accuracy: 0.8190\n",
      "Epoch 118/200\n",
      "7/7 [==============================] - 0s 2ms/step - loss: 0.5373 - accuracy: 0.8952\n",
      "Epoch 119/200\n",
      "7/7 [==============================] - 0s 2ms/step - loss: 0.5358 - accuracy: 0.8286\n",
      "Epoch 120/200\n",
      "7/7 [==============================] - 0s 2ms/step - loss: 0.5335 - accuracy: 0.8190\n",
      "Epoch 121/200\n",
      "7/7 [==============================] - 0s 1ms/step - loss: 0.5309 - accuracy: 0.9143\n",
      "Epoch 122/200\n",
      "7/7 [==============================] - 0s 1ms/step - loss: 0.5273 - accuracy: 0.8286\n",
      "Epoch 123/200\n",
      "7/7 [==============================] - 0s 2ms/step - loss: 0.5263 - accuracy: 0.9333\n",
      "Epoch 124/200\n",
      "7/7 [==============================] - 0s 2ms/step - loss: 0.5211 - accuracy: 0.8762\n",
      "Epoch 125/200\n",
      "7/7 [==============================] - 0s 2ms/step - loss: 0.5201 - accuracy: 0.8667\n",
      "Epoch 126/200\n",
      "7/7 [==============================] - 0s 2ms/step - loss: 0.5161 - accuracy: 0.9048\n",
      "Epoch 127/200\n",
      "7/7 [==============================] - 0s 2ms/step - loss: 0.5158 - accuracy: 0.7714\n",
      "Epoch 128/200\n",
      "7/7 [==============================] - 0s 1ms/step - loss: 0.5114 - accuracy: 0.8857\n",
      "Epoch 129/200\n",
      "7/7 [==============================] - 0s 2ms/step - loss: 0.5099 - accuracy: 0.8667\n",
      "Epoch 130/200\n",
      "7/7 [==============================] - 0s 1ms/step - loss: 0.5113 - accuracy: 0.8857\n",
      "Epoch 131/200\n",
      "7/7 [==============================] - 0s 1ms/step - loss: 0.5059 - accuracy: 0.9048\n",
      "Epoch 132/200\n",
      "7/7 [==============================] - 0s 990us/step - loss: 0.5112 - accuracy: 0.8381\n",
      "Epoch 133/200\n",
      "7/7 [==============================] - 0s 2ms/step - loss: 0.4993 - accuracy: 0.8571\n",
      "Epoch 134/200\n",
      "7/7 [==============================] - 0s 951us/step - loss: 0.4996 - accuracy: 0.8762\n",
      "Epoch 135/200\n",
      "7/7 [==============================] - 0s 1ms/step - loss: 0.4960 - accuracy: 0.9143\n",
      "Epoch 136/200\n",
      "7/7 [==============================] - 0s 1ms/step - loss: 0.4926 - accuracy: 0.9048\n",
      "Epoch 137/200\n",
      "7/7 [==============================] - 0s 926us/step - loss: 0.4926 - accuracy: 0.8762\n",
      "Epoch 138/200\n",
      "7/7 [==============================] - 0s 1ms/step - loss: 0.4889 - accuracy: 0.8952\n",
      "Epoch 139/200\n",
      "7/7 [==============================] - 0s 1ms/step - loss: 0.4863 - accuracy: 0.8952\n",
      "Epoch 140/200\n",
      "7/7 [==============================] - 0s 1ms/step - loss: 0.4855 - accuracy: 0.9048\n",
      "Epoch 141/200\n",
      "7/7 [==============================] - 0s 2ms/step - loss: 0.4833 - accuracy: 0.8571\n",
      "Epoch 142/200\n",
      "7/7 [==============================] - 0s 2ms/step - loss: 0.4797 - accuracy: 0.9143\n",
      "Epoch 143/200\n",
      "7/7 [==============================] - 0s 2ms/step - loss: 0.4807 - accuracy: 0.8857\n",
      "Epoch 144/200\n",
      "7/7 [==============================] - ETA: 0s - loss: 0.4396 - accuracy: 1.00 - 0s 2ms/step - loss: 0.4782 - accuracy: 0.8762\n",
      "Epoch 145/200\n",
      "7/7 [==============================] - 0s 1ms/step - loss: 0.4742 - accuracy: 0.9524\n",
      "Epoch 146/200\n",
      "7/7 [==============================] - 0s 1ms/step - loss: 0.4712 - accuracy: 0.9333\n",
      "Epoch 147/200\n",
      "7/7 [==============================] - 0s 2ms/step - loss: 0.4697 - accuracy: 0.8857\n",
      "Epoch 148/200\n",
      "7/7 [==============================] - 0s 1ms/step - loss: 0.4683 - accuracy: 0.9048\n",
      "Epoch 149/200\n",
      "7/7 [==============================] - 0s 1ms/step - loss: 0.4676 - accuracy: 0.8857\n",
      "Epoch 150/200\n",
      "7/7 [==============================] - 0s 1ms/step - loss: 0.4650 - accuracy: 0.8857\n",
      "Epoch 151/200\n",
      "7/7 [==============================] - 0s 2ms/step - loss: 0.4717 - accuracy: 0.9143\n",
      "Epoch 152/200\n",
      "7/7 [==============================] - 0s 1ms/step - loss: 0.4635 - accuracy: 0.8762\n",
      "Epoch 153/200\n",
      "7/7 [==============================] - 0s 2ms/step - loss: 0.4608 - accuracy: 0.8667\n",
      "Epoch 154/200\n",
      "7/7 [==============================] - 0s 882us/step - loss: 0.4604 - accuracy: 0.9238\n",
      "Epoch 155/200\n",
      "7/7 [==============================] - 0s 964us/step - loss: 0.4537 - accuracy: 0.9048\n",
      "Epoch 156/200\n",
      "7/7 [==============================] - 0s 2ms/step - loss: 0.4506 - accuracy: 0.9048\n",
      "Epoch 157/200\n",
      "7/7 [==============================] - 0s 2ms/step - loss: 0.4498 - accuracy: 0.9143\n",
      "Epoch 158/200\n",
      "7/7 [==============================] - 0s 1ms/step - loss: 0.4477 - accuracy: 0.8952\n",
      "Epoch 159/200\n",
      "7/7 [==============================] - 0s 935us/step - loss: 0.4487 - accuracy: 0.8857\n",
      "Epoch 160/200\n",
      "7/7 [==============================] - 0s 1ms/step - loss: 0.4448 - accuracy: 0.9048\n",
      "Epoch 161/200\n",
      "7/7 [==============================] - 0s 850us/step - loss: 0.4462 - accuracy: 0.9333\n",
      "Epoch 162/200\n",
      "7/7 [==============================] - 0s 856us/step - loss: 0.4421 - accuracy: 0.9238\n",
      "Epoch 163/200\n",
      "7/7 [==============================] - 0s 1ms/step - loss: 0.4388 - accuracy: 0.8952\n",
      "Epoch 164/200\n",
      "7/7 [==============================] - 0s 2ms/step - loss: 0.4396 - accuracy: 0.9048\n",
      "Epoch 165/200\n",
      "7/7 [==============================] - 0s 2ms/step - loss: 0.4371 - accuracy: 0.9048\n",
      "Epoch 166/200\n",
      "7/7 [==============================] - 0s 1ms/step - loss: 0.4355 - accuracy: 0.8857\n",
      "Epoch 167/200\n",
      "7/7 [==============================] - 0s 905us/step - loss: 0.4346 - accuracy: 0.9143\n",
      "Epoch 168/200\n",
      "7/7 [==============================] - 0s 2ms/step - loss: 0.4310 - accuracy: 0.9048\n",
      "Epoch 169/200\n",
      "7/7 [==============================] - 0s 2ms/step - loss: 0.4346 - accuracy: 0.9048\n",
      "Epoch 170/200\n",
      "7/7 [==============================] - 0s 2ms/step - loss: 0.4280 - accuracy: 0.9238\n",
      "Epoch 171/200\n",
      "7/7 [==============================] - 0s 1ms/step - loss: 0.4270 - accuracy: 0.9238\n",
      "Epoch 172/200\n",
      "7/7 [==============================] - 0s 1ms/step - loss: 0.4230 - accuracy: 0.8857\n",
      "Epoch 173/200\n",
      "7/7 [==============================] - 0s 1ms/step - loss: 0.4210 - accuracy: 0.9429\n",
      "Epoch 174/200\n",
      "7/7 [==============================] - 0s 2ms/step - loss: 0.4183 - accuracy: 0.9143\n",
      "Epoch 175/200\n",
      "7/7 [==============================] - 0s 1ms/step - loss: 0.4198 - accuracy: 0.9429\n",
      "Epoch 176/200\n",
      "7/7 [==============================] - 0s 2ms/step - loss: 0.4153 - accuracy: 0.9143\n",
      "Epoch 177/200\n",
      "7/7 [==============================] - 0s 1ms/step - loss: 0.4136 - accuracy: 0.9429\n",
      "Epoch 178/200\n",
      "7/7 [==============================] - 0s 2ms/step - loss: 0.4105 - accuracy: 0.9714\n",
      "Epoch 179/200\n",
      "7/7 [==============================] - 0s 2ms/step - loss: 0.4094 - accuracy: 0.9048\n",
      "Epoch 180/200\n",
      "7/7 [==============================] - 0s 1ms/step - loss: 0.4097 - accuracy: 0.9333\n",
      "Epoch 181/200\n",
      "7/7 [==============================] - 0s 2ms/step - loss: 0.4094 - accuracy: 0.9333\n",
      "Epoch 182/200\n",
      "7/7 [==============================] - 0s 1ms/step - loss: 0.4061 - accuracy: 0.9429\n",
      "Epoch 183/200\n",
      "7/7 [==============================] - 0s 2ms/step - loss: 0.4041 - accuracy: 0.9238\n",
      "Epoch 184/200\n",
      "7/7 [==============================] - 0s 1ms/step - loss: 0.4030 - accuracy: 0.9143\n",
      "Epoch 185/200\n",
      "7/7 [==============================] - 0s 1ms/step - loss: 0.4034 - accuracy: 0.9619\n",
      "Epoch 186/200\n",
      "7/7 [==============================] - 0s 2ms/step - loss: 0.4009 - accuracy: 0.9143\n",
      "Epoch 187/200\n",
      "7/7 [==============================] - 0s 2ms/step - loss: 0.4000 - accuracy: 0.9524\n",
      "Epoch 188/200\n",
      "7/7 [==============================] - 0s 1ms/step - loss: 0.3966 - accuracy: 0.9048\n",
      "Epoch 189/200\n",
      "7/7 [==============================] - 0s 2ms/step - loss: 0.3968 - accuracy: 0.9238\n",
      "Epoch 190/200\n",
      "7/7 [==============================] - 0s 917us/step - loss: 0.3950 - accuracy: 0.9238\n",
      "Epoch 191/200\n",
      "7/7 [==============================] - 0s 2ms/step - loss: 0.3891 - accuracy: 0.9238\n",
      "Epoch 192/200\n",
      "7/7 [==============================] - 0s 1ms/step - loss: 0.3908 - accuracy: 0.9619\n",
      "Epoch 193/200\n",
      "7/7 [==============================] - 0s 1ms/step - loss: 0.3882 - accuracy: 0.9143\n",
      "Epoch 194/200\n",
      "7/7 [==============================] - 0s 1ms/step - loss: 0.3859 - accuracy: 0.9619\n",
      "Epoch 195/200\n",
      "7/7 [==============================] - 0s 1ms/step - loss: 0.3836 - accuracy: 0.9619\n",
      "Epoch 196/200\n",
      "7/7 [==============================] - 0s 1ms/step - loss: 0.3873 - accuracy: 0.8952\n",
      "Epoch 197/200\n",
      "7/7 [==============================] - 0s 935us/step - loss: 0.3825 - accuracy: 0.9333\n",
      "Epoch 198/200\n",
      "7/7 [==============================] - 0s 2ms/step - loss: 0.3796 - accuracy: 0.9429\n",
      "Epoch 199/200\n",
      "7/7 [==============================] - 0s 2ms/step - loss: 0.3804 - accuracy: 0.9524\n",
      "Epoch 200/200\n",
      "7/7 [==============================] - 0s 2ms/step - loss: 0.3782 - accuracy: 0.9714\n"
     ]
    },
    {
     "data": {
      "text/plain": [
       "<tensorflow.python.keras.callbacks.History at 0x14cb35fd0>"
      ]
     },
     "execution_count": 267,
     "metadata": {},
     "output_type": "execute_result"
    }
   ],
   "source": [
    "model.fit(X_train, y_train, batch_size=16, epochs=200)"
   ]
  },
  {
   "cell_type": "markdown",
   "metadata": {},
   "source": [
    "Como vemos, en cada _epoch_ fue incrementando el _accuracy_ sobre el _dataset_ de entrenamiento. Ahora vamos a predecir sobre el _dataset_ de prueba."
   ]
  },
  {
   "cell_type": "code",
   "execution_count": 268,
   "metadata": {},
   "outputs": [
    {
     "data": {
      "text/plain": [
       "array([[0.02, 0.57, 0.41],\n",
       "       [0.8 , 0.14, 0.06],\n",
       "       [0.03, 0.65, 0.32],\n",
       "       [0.  , 0.25, 0.75],\n",
       "       [0.01, 0.51, 0.49],\n",
       "       [0.03, 0.62, 0.35],\n",
       "       [0.  , 0.17, 0.83],\n",
       "       [0.8 , 0.14, 0.06],\n",
       "       [0.68, 0.24, 0.08],\n",
       "       [0.8 , 0.14, 0.06],\n",
       "       [0.  , 0.19, 0.81],\n",
       "       [0.  , 0.25, 0.75],\n",
       "       [0.  , 0.34, 0.66],\n",
       "       [0.69, 0.24, 0.08],\n",
       "       [0.  , 0.31, 0.68],\n",
       "       [0.8 , 0.14, 0.06],\n",
       "       [0.8 , 0.14, 0.06],\n",
       "       [0.  , 0.42, 0.57],\n",
       "       [0.  , 0.36, 0.64],\n",
       "       [0.01, 0.53, 0.46],\n",
       "       [0.8 , 0.14, 0.06],\n",
       "       [0.8 , 0.14, 0.06],\n",
       "       [0.  , 0.19, 0.81],\n",
       "       [0.8 , 0.15, 0.06],\n",
       "       [0.01, 0.56, 0.43],\n",
       "       [0.  , 0.24, 0.76],\n",
       "       [0.01, 0.53, 0.46],\n",
       "       [0.06, 0.67, 0.27],\n",
       "       [0.01, 0.56, 0.42],\n",
       "       [0.75, 0.18, 0.07],\n",
       "       [0.03, 0.61, 0.36],\n",
       "       [0.  , 0.3 , 0.7 ],\n",
       "       [0.  , 0.35, 0.65],\n",
       "       [0.02, 0.6 , 0.38],\n",
       "       [0.8 , 0.14, 0.06],\n",
       "       [0.01, 0.56, 0.43],\n",
       "       [0.02, 0.54, 0.44],\n",
       "       [0.  , 0.39, 0.6 ],\n",
       "       [0.  , 0.31, 0.69],\n",
       "       [0.  , 0.18, 0.82],\n",
       "       [0.8 , 0.14, 0.06],\n",
       "       [0.1 , 0.68, 0.22],\n",
       "       [0.01, 0.49, 0.5 ],\n",
       "       [0.77, 0.17, 0.06],\n",
       "       [0.  , 0.2 , 0.8 ]], dtype=float32)"
      ]
     },
     "execution_count": 268,
     "metadata": {},
     "output_type": "execute_result"
    }
   ],
   "source": [
    "# Aquí obtenemos un vector de probabilidades\n",
    "y_proba = model.predict(X_test)\n",
    "# Que redondeamos a dos decimales\n",
    "y_proba.round(2)"
   ]
  },
  {
   "cell_type": "code",
   "execution_count": 269,
   "metadata": {},
   "outputs": [
    {
     "data": {
      "text/plain": [
       "array([1, 0, 1, 2, 1, 1, 2, 0, 0, 0, 2, 2, 2, 0, 2, 0, 0, 2, 2, 1, 0, 0,\n",
       "       2, 0, 1, 2, 1, 1, 1, 0, 1, 2, 2, 1, 0, 1, 1, 2, 2, 2, 0, 1, 2, 0,\n",
       "       2])"
      ]
     },
     "execution_count": 269,
     "metadata": {},
     "output_type": "execute_result"
    }
   ],
   "source": [
    "# Y ahora para mostrar la clase\n",
    "import numpy as np\n",
    "y_pred = np.argmax(y_proba, axis=-1)\n",
    "y_pred"
   ]
  },
  {
   "cell_type": "markdown",
   "metadata": {},
   "source": [
    "Vamos a comparar con nuestro _dataset_ de prueba:"
   ]
  },
  {
   "cell_type": "code",
   "execution_count": 270,
   "metadata": {},
   "outputs": [
    {
     "data": {
      "text/plain": [
       "0.9333333333333333"
      ]
     },
     "execution_count": 270,
     "metadata": {},
     "output_type": "execute_result"
    }
   ],
   "source": [
    "np.sum(y_pred == y_test) / len(y_pred)"
   ]
  },
  {
   "cell_type": "markdown",
   "metadata": {},
   "source": [
    "Vamos a graficar ahora la frontera de decisión."
   ]
  },
  {
   "cell_type": "code",
   "execution_count": 271,
   "metadata": {},
   "outputs": [
    {
     "data": {
      "image/png": "[encoded data removed]",
      "text/plain": [
       "<Figure size 432x288 with 1 Axes>"
      ]
     },
     "metadata": {
      "needs_background": "light"
     },
     "output_type": "display_data"
    }
   ],
   "source": [
    "import matplotlib.pyplot as plt\n",
    "from matplotlib.colors import ListedColormap\n",
    "\n",
    "# Colores\n",
    "cmap_light = ListedColormap(['#f2cdc3', '#d0f2cd', '#c9f6ff'])\n",
    "cmap_bold = ['#a72618', '#34892d', '#262ea7']\n",
    "\n",
    "# Buscamos los límites del gráfico\n",
    "x_min, x_max = X[:, 0].min() - 1, X[:, 0].max() + 1\n",
    "y_min, y_max = X[:, 1].min() - 1, X[:, 1].max() + 1\n",
    "\n",
    "# Generamos las combinaciones de x/y del plano en los rangos\n",
    "xx, yy = np.meshgrid(np.arange(x_min, x_max, 0.02),\n",
    "                     np.arange(y_min, y_max, 0.02))\n",
    "\n",
    "# Predecimos sobre el plano con la red neuronal\n",
    "y_proba = model.predict(np.c_[xx.ravel(), yy.ravel()])\n",
    "# Y lo convertimos a valores\n",
    "Z = np.argmax(y_proba, axis=-1)\n",
    "\n",
    "# Resultado de la frontera de decisión con color claro\n",
    "Z = Z.reshape(xx.shape)\n",
    "plt.figure()\n",
    "plt.pcolormesh(xx, yy, Z, cmap=cmap_light, shading='auto')\n",
    "plt.xlabel('Petal Length (cm)')\n",
    "plt.ylabel('Petal Width (cm)')\n",
    "\n",
    "plt.scatter(X[y==0, 0], X[y==0, 1], c=cmap_bold[0], label='Iris Setosa')\n",
    "plt.scatter(X[y==1, 0], X[y==1, 1], c=cmap_bold[1], label='Iris Versicolor')\n",
    "plt.scatter(X[y==2, 0], X[y==2, 1], c=cmap_bold[2], label='Iris Virginica')\n",
    "\n",
    "plt.xlim(xx.min(), xx.max())\n",
    "plt.ylim(yy.min(), yy.max())\n",
    "plt.legend()\n",
    "\n",
    "plt.show()"
   ]
  },
  {
   "cell_type": "markdown",
   "metadata": {},
   "source": [
    "Como vemos, la clasificación realizada por la red es muy distinta a la que nos habíamos encontrado hasta ahora. Ahora, un buen ejercicio es probar qué pasa con más neuronas en una de las capas."
   ]
  },
  {
   "cell_type": "code",
   "execution_count": 272,
   "metadata": {},
   "outputs": [
    {
     "data": {
      "image/png": "[encoded data removed]",
      "text/plain": [
       "<Figure size 432x288 with 1 Axes>"
      ]
     },
     "metadata": {
      "needs_background": "light"
     },
     "output_type": "display_data"
    }
   ],
   "source": [
    "# Instanciamos un modelo \"Secuencial\"\n",
    "\n",
    "# Siempre es buena práctica reiniciar el modelo\n",
    "keras.backend.clear_session()\n",
    "\n",
    "model = keras.Sequential(\n",
    "    [\n",
    "        layers.Dense(5, activation='relu', input_shape=(2,), name='hidden_layer_1'),\n",
    "        layers.Dense(20, activation='relu', name='hidden_layer_2'),\n",
    "        layers.Dense(3, activation='softmax', name='output_layer'),\n",
    "    ]\n",
    ")\n",
    "\n",
    "# Compilamos la red neuronal\n",
    "model.compile(loss='sparse_categorical_crossentropy',\n",
    "              optimizer='sgd', metrics=['accuracy'])\n",
    "\n",
    "model.fit(X_train, y_train, batch_size=16, epochs=200, verbose=0)\n",
    "\n",
    "# Colores\n",
    "cmap_light = ListedColormap(['#f2cdc3', '#d0f2cd', '#c9f6ff'])\n",
    "cmap_bold = ['#a72618', '#34892d', '#262ea7']\n",
    "\n",
    "# Buscamos los límites del gráfico\n",
    "x_min, x_max = X[:, 0].min() - 1, X[:, 0].max() + 1\n",
    "y_min, y_max = X[:, 1].min() - 1, X[:, 1].max() + 1\n",
    "\n",
    "# Generamos las combinaciones de x/y del plano en los rangos\n",
    "xx, yy = np.meshgrid(np.arange(x_min, x_max, 0.02),\n",
    "                     np.arange(y_min, y_max, 0.02))\n",
    "\n",
    "# Predecimos sobre el plano con la red neuronal\n",
    "y_proba = model.predict(np.c_[xx.ravel(), yy.ravel()])\n",
    "# Y lo convertimos a valores\n",
    "Z = np.argmax(y_proba, axis=-1)\n",
    "\n",
    "# Resultado de la frontera de decisión con color claro\n",
    "Z = Z.reshape(xx.shape)\n",
    "plt.figure()\n",
    "plt.pcolormesh(xx, yy, Z, cmap=cmap_light, shading='auto')\n",
    "plt.xlabel('Petal Length (cm)')\n",
    "plt.ylabel('Petal Width (cm)')\n",
    "\n",
    "plt.scatter(X[y==0, 0], X[y==0, 1], c=cmap_bold[0], label='Iris Setosa')\n",
    "plt.scatter(X[y==1, 0], X[y==1, 1], c=cmap_bold[1], label='Iris Versicolor')\n",
    "plt.scatter(X[y==2, 0], X[y==2, 1], c=cmap_bold[2], label='Iris Virginica')\n",
    "\n",
    "plt.xlim(xx.min(), xx.max())\n",
    "plt.ylim(yy.min(), yy.max())\n",
    "plt.legend()\n",
    "\n",
    "plt.show()"
   ]
  },
  {
   "cell_type": "markdown",
   "metadata": {},
   "source": [
    "Ahora, una buena idea también es entender como cambia la decisión con otras funciones de activación."
   ]
  },
  {
   "cell_type": "code",
   "execution_count": 273,
   "metadata": {},
   "outputs": [
    {
     "data": {
      "image/png": "[encoded data removed]",
      "text/plain": [
       "<Figure size 432x288 with 1 Axes>"
      ]
     },
     "metadata": {
      "needs_background": "light"
     },
     "output_type": "display_data"
    }
   ],
   "source": [
    "# Instanciamos un modelo \"Secuencial\"\n",
    "\n",
    "# Siempre es buena práctica reiniciar el modelo\n",
    "keras.backend.clear_session()\n",
    "\n",
    "model = keras.Sequential(\n",
    "    [\n",
    "        layers.Dense(5, activation='linear', input_shape=(2,), name='hidden_layer_1'),\n",
    "        layers.Dense(10, activation='linear', name='hidden_layer_2'),\n",
    "        layers.Dense(3, activation='softmax', name='output_layer'),\n",
    "    ]\n",
    ")\n",
    "\n",
    "# Compilamos la red neuronal\n",
    "model.compile(loss='sparse_categorical_crossentropy',\n",
    "              optimizer='sgd', metrics=['accuracy'])\n",
    "\n",
    "model.fit(X_train, y_train, batch_size=16, epochs=200, verbose=0)\n",
    "\n",
    "# Colores\n",
    "cmap_light = ListedColormap(['#f2cdc3', '#d0f2cd', '#c9f6ff'])\n",
    "cmap_bold = ['#a72618', '#34892d', '#262ea7']\n",
    "\n",
    "# Buscamos los límites del gráfico\n",
    "x_min, x_max = X[:, 0].min() - 1, X[:, 0].max() + 1\n",
    "y_min, y_max = X[:, 1].min() - 1, X[:, 1].max() + 1\n",
    "\n",
    "# Generamos las combinaciones de x/y del plano en los rangos\n",
    "xx, yy = np.meshgrid(np.arange(x_min, x_max, 0.02),\n",
    "                     np.arange(y_min, y_max, 0.02))\n",
    "\n",
    "# Predecimos sobre el plano con la red neuronal\n",
    "y_proba = model.predict(np.c_[xx.ravel(), yy.ravel()])\n",
    "# Y lo convertimos a valores\n",
    "Z = np.argmax(y_proba, axis=-1)\n",
    "\n",
    "# Resultado de la frontera de decisión con color claro\n",
    "Z = Z.reshape(xx.shape)\n",
    "plt.figure()\n",
    "plt.pcolormesh(xx, yy, Z, cmap=cmap_light, shading='auto')\n",
    "plt.xlabel('Petal Length (cm)')\n",
    "plt.ylabel('Petal Width (cm)')\n",
    "\n",
    "plt.scatter(X[y==0, 0], X[y==0, 1], c=cmap_bold[0], label='Iris Setosa')\n",
    "plt.scatter(X[y==1, 0], X[y==1, 1], c=cmap_bold[1], label='Iris Versicolor')\n",
    "plt.scatter(X[y==2, 0], X[y==2, 1], c=cmap_bold[2], label='Iris Virginica')\n",
    "\n",
    "plt.xlim(xx.min(), xx.max())\n",
    "plt.ylim(yy.min(), yy.max())\n",
    "plt.legend()\n",
    "\n",
    "plt.show()"
   ]
  },
  {
   "cell_type": "markdown",
   "metadata": {},
   "source": [
    "Como vemos, la activación lineal hace que la clasificación sea básicamente lineal en la separación de las clases."
   ]
  },
  {
   "cell_type": "code",
   "execution_count": 274,
   "metadata": {},
   "outputs": [
    {
     "data": {
      "image/png": "[encoded data removed]",
      "text/plain": [
       "<Figure size 432x288 with 1 Axes>"
      ]
     },
     "metadata": {
      "needs_background": "light"
     },
     "output_type": "display_data"
    }
   ],
   "source": [
    "# Instanciamos un modelo \"Secuencial\"\n",
    "\n",
    "# Siempre es buena práctica reiniciar el modelo\n",
    "keras.backend.clear_session()\n",
    "\n",
    "model = keras.Sequential(\n",
    "    [\n",
    "        layers.Dense(5, activation='sigmoid', input_shape=(2,), name='hidden_layer_1'),\n",
    "        layers.Dense(10, activation='sigmoid', name='hidden_layer_2'),\n",
    "        layers.Dense(3, activation='softmax', name='output_layer'),\n",
    "    ]\n",
    ")\n",
    "\n",
    "# Compilamos la red neuronal\n",
    "model.compile(loss='sparse_categorical_crossentropy',\n",
    "              optimizer='sgd', metrics=['accuracy'])\n",
    "\n",
    "model.fit(X_train, y_train, batch_size=16, epochs=200, verbose=0)\n",
    "\n",
    "# Colores\n",
    "cmap_light = ListedColormap(['#f2cdc3', '#d0f2cd', '#c9f6ff'])\n",
    "cmap_bold = ['#a72618', '#34892d', '#262ea7']\n",
    "\n",
    "# Buscamos los límites del gráfico\n",
    "x_min, x_max = X[:, 0].min() - 1, X[:, 0].max() + 1\n",
    "y_min, y_max = X[:, 1].min() - 1, X[:, 1].max() + 1\n",
    "\n",
    "# Generamos las combinaciones de x/y del plano en los rangos\n",
    "xx, yy = np.meshgrid(np.arange(x_min, x_max, 0.02),\n",
    "                     np.arange(y_min, y_max, 0.02))\n",
    "\n",
    "# Predecimos sobre el plano con la red neuronal\n",
    "y_proba = model.predict(np.c_[xx.ravel(), yy.ravel()])\n",
    "# Y lo convertimos a valores\n",
    "Z = np.argmax(y_proba, axis=-1)\n",
    "\n",
    "# Resultado de la frontera de decisión con color claro\n",
    "Z = Z.reshape(xx.shape)\n",
    "plt.figure()\n",
    "plt.pcolormesh(xx, yy, Z, cmap=cmap_light, shading='auto')\n",
    "plt.xlabel('Petal Length (cm)')\n",
    "plt.ylabel('Petal Width (cm)')\n",
    "\n",
    "plt.scatter(X[y==0, 0], X[y==0, 1], c=cmap_bold[0], label='Iris Setosa')\n",
    "plt.scatter(X[y==1, 0], X[y==1, 1], c=cmap_bold[1], label='Iris Versicolor')\n",
    "plt.scatter(X[y==2, 0], X[y==2, 1], c=cmap_bold[2], label='Iris Virginica')\n",
    "\n",
    "plt.xlim(xx.min(), xx.max())\n",
    "plt.ylim(yy.min(), yy.max())\n",
    "plt.legend()\n",
    "\n",
    "plt.show()"
   ]
  },
  {
   "cell_type": "markdown",
   "metadata": {},
   "source": [
    "Y como vemos, la función sigmoide no parece ser una buena elección para este problema. Ahora vamos a ver un segundo ejemplo sobre el _dataset_ Fashion MNIST.\n",
    "\n",
    "## Fashion MNIST\n",
    "\n",
    "Este _dataset_ es similar al _dataset_ MNIST, solo que aquí vamos a clasificar prendas de ropa en distintos tipos."
   ]
  },
  {
   "cell_type": "code",
   "execution_count": 275,
   "metadata": {},
   "outputs": [
    {
     "data": {
      "text/plain": [
       "(60000, 28, 28)"
      ]
     },
     "execution_count": 275,
     "metadata": {},
     "output_type": "execute_result"
    }
   ],
   "source": [
    "fashion_mnist = keras.datasets.fashion_mnist\n",
    "\n",
    "# Cargamos los Datasets\n",
    "(X_train_full, y_train_full), (X_test, y_test) = fashion_mnist.load_data()\n",
    "X_train_full.shape"
   ]
  },
  {
   "cell_type": "code",
   "execution_count": 276,
   "metadata": {},
   "outputs": [
    {
     "data": {
      "text/plain": [
       "array([[[0, 0, 0, ..., 0, 0, 0],\n",
       "        [0, 0, 0, ..., 0, 0, 0],\n",
       "        [0, 0, 0, ..., 0, 0, 0],\n",
       "        ...,\n",
       "        [0, 0, 0, ..., 0, 0, 0],\n",
       "        [0, 0, 0, ..., 0, 0, 0],\n",
       "        [0, 0, 0, ..., 0, 0, 0]],\n",
       "\n",
       "       [[0, 0, 0, ..., 0, 0, 0],\n",
       "        [0, 0, 0, ..., 0, 0, 0],\n",
       "        [0, 0, 0, ..., 0, 0, 0],\n",
       "        ...,\n",
       "        [0, 0, 0, ..., 0, 0, 0],\n",
       "        [0, 0, 0, ..., 0, 0, 0],\n",
       "        [0, 0, 0, ..., 0, 0, 0]],\n",
       "\n",
       "       [[0, 0, 0, ..., 0, 0, 0],\n",
       "        [0, 0, 0, ..., 0, 0, 0],\n",
       "        [0, 0, 0, ..., 0, 0, 0],\n",
       "        ...,\n",
       "        [0, 0, 0, ..., 0, 0, 0],\n",
       "        [0, 0, 0, ..., 0, 0, 0],\n",
       "        [0, 0, 0, ..., 0, 0, 0]],\n",
       "\n",
       "       ...,\n",
       "\n",
       "       [[0, 0, 0, ..., 0, 0, 0],\n",
       "        [0, 0, 0, ..., 0, 0, 0],\n",
       "        [0, 0, 0, ..., 0, 0, 0],\n",
       "        ...,\n",
       "        [0, 0, 0, ..., 0, 0, 0],\n",
       "        [0, 0, 0, ..., 0, 0, 0],\n",
       "        [0, 0, 0, ..., 0, 0, 0]],\n",
       "\n",
       "       [[0, 0, 0, ..., 0, 0, 0],\n",
       "        [0, 0, 0, ..., 0, 0, 0],\n",
       "        [0, 0, 0, ..., 0, 0, 0],\n",
       "        ...,\n",
       "        [0, 0, 0, ..., 0, 0, 0],\n",
       "        [0, 0, 0, ..., 0, 0, 0],\n",
       "        [0, 0, 0, ..., 0, 0, 0]],\n",
       "\n",
       "       [[0, 0, 0, ..., 0, 0, 0],\n",
       "        [0, 0, 0, ..., 0, 0, 0],\n",
       "        [0, 0, 0, ..., 0, 0, 0],\n",
       "        ...,\n",
       "        [0, 0, 0, ..., 0, 0, 0],\n",
       "        [0, 0, 0, ..., 0, 0, 0],\n",
       "        [0, 0, 0, ..., 0, 0, 0]]], dtype=uint8)"
      ]
     },
     "execution_count": 276,
     "metadata": {},
     "output_type": "execute_result"
    }
   ],
   "source": [
    "X_train_full"
   ]
  },
  {
   "cell_type": "code",
   "execution_count": 277,
   "metadata": {},
   "outputs": [
    {
     "data": {
      "text/plain": [
       "array([4, 0, 7, ..., 3, 0, 5], dtype=uint8)"
      ]
     },
     "execution_count": 277,
     "metadata": {},
     "output_type": "execute_result"
    }
   ],
   "source": [
    "# Creamos datasets de entrenamiento, validación y prueba\n",
    "# Las features se dividen en 255. para que los valores queden entre 0 y 1.\n",
    "X_valid, X_train = X_train_full[:5000] / 255., X_train_full[5000:] / 255.\n",
    "y_valid, y_train = y_train_full[:5000], y_train_full[5000:]\n",
    "X_test = X_test / 255.\n",
    "\n",
    "y_train"
   ]
  },
  {
   "cell_type": "markdown",
   "metadata": {},
   "source": [
    "Las clases son números, su significado es el siguiente."
   ]
  },
  {
   "cell_type": "code",
   "execution_count": 278,
   "metadata": {},
   "outputs": [],
   "source": [
    "class_names = [\"T-shirt/top\", \"Trouser\", \"Pullover\", \"Dress\", \"Coat\",\n",
    "               \"Sandal\", \"Shirt\", \"Sneaker\", \"Bag\", \"Ankle boot\"]"
   ]
  },
  {
   "cell_type": "code",
   "execution_count": 279,
   "metadata": {},
   "outputs": [
    {
     "data": {
      "image/png": "[encoded data removed]",
      "text/plain": [
       "<Figure size 864x345.6 with 40 Axes>"
      ]
     },
     "metadata": {
      "needs_background": "light"
     },
     "output_type": "display_data"
    }
   ],
   "source": [
    "n_rows = 4\n",
    "n_cols = 10\n",
    "plt.figure(figsize=(n_cols * 1.2, n_rows * 1.2))\n",
    "for row in range(n_rows):\n",
    "    for col in range(n_cols):\n",
    "        index = n_cols * row + col\n",
    "        plt.subplot(n_rows, n_cols, index + 1)\n",
    "        plt.imshow(X_train[index], cmap=\"binary\", interpolation=\"nearest\")\n",
    "        plt.axis('off')\n",
    "        plt.title(class_names[y_train[index]], fontsize=12)\n",
    "plt.subplots_adjust(wspace=0.2, hspace=0.5)\n",
    "plt.show()"
   ]
  },
  {
   "cell_type": "code",
   "execution_count": 280,
   "metadata": {},
   "outputs": [
    {
     "name": "stdout",
     "output_type": "stream",
     "text": [
      "Model: \"sequential\"\n",
      "_________________________________________________________________\n",
      "Layer (type)                 Output Shape              Param #   \n",
      "=================================================================\n",
      "flatten (Flatten)            (None, 784)               0         \n",
      "_________________________________________________________________\n",
      "dense (Dense)                (None, 300)               235500    \n",
      "_________________________________________________________________\n",
      "dense_1 (Dense)              (None, 100)               30100     \n",
      "_________________________________________________________________\n",
      "dense_2 (Dense)              (None, 10)                1010      \n",
      "=================================================================\n",
      "Total params: 266,610\n",
      "Trainable params: 266,610\n",
      "Non-trainable params: 0\n",
      "_________________________________________________________________\n"
     ]
    }
   ],
   "source": [
    "keras.backend.clear_session()\n",
    "\n",
    "model = keras.models.Sequential([\n",
    "    keras.layers.Flatten(input_shape=[28, 28]),\n",
    "    keras.layers.Dense(300, activation=\"relu\"),\n",
    "    keras.layers.Dense(100, activation=\"relu\"),\n",
    "    keras.layers.Dense(10, activation=\"softmax\")\n",
    "])\n",
    "\n",
    "# La capa flatten es para recibir la imagen de 28x28 sin transformar el dataset de entrenamiento\n",
    "model.summary()"
   ]
  },
  {
   "cell_type": "code",
   "execution_count": 281,
   "metadata": {},
   "outputs": [],
   "source": [
    "model.compile(loss=\"sparse_categorical_crossentropy\",\n",
    "              optimizer=\"sgd\",\n",
    "              metrics=[\"accuracy\"])\n",
    "\n",
    "# El batch size default es de 32\n",
    "history = model.fit(X_train, y_train, verbose=0, epochs=30,\n",
    "                    validation_data=(X_valid, y_valid))"
   ]
  },
  {
   "cell_type": "markdown",
   "metadata": {},
   "source": [
    "Ahora vamos a graficar cómo se comportó el modelo durante el entrenamiento."
   ]
  },
  {
   "cell_type": "code",
   "execution_count": 282,
   "metadata": {},
   "outputs": [
    {
     "data": {
      "image/png": "[encoded data removed]",
      "text/plain": [
       "<Figure size 576x360 with 1 Axes>"
      ]
     },
     "metadata": {
      "needs_background": "light"
     },
     "output_type": "display_data"
    }
   ],
   "source": [
    "import pandas as pd\n",
    "\n",
    "pd.DataFrame(history.history).plot(figsize=(8, 5))\n",
    "plt.grid(True)\n",
    "plt.gca().set_ylim(0, 1)\n",
    "plt.show()"
   ]
  },
  {
   "cell_type": "markdown",
   "metadata": {},
   "source": [
    "Ahora para evaluar sobre los datos de prueba."
   ]
  },
  {
   "cell_type": "code",
   "execution_count": 283,
   "metadata": {},
   "outputs": [
    {
     "name": "stdout",
     "output_type": "stream",
     "text": [
      "313/313 [==============================] - 0s 1ms/step - loss: 0.3951 - accuracy: 0.8586\n"
     ]
    },
    {
     "data": {
      "text/plain": [
       "[0.3950877785682678, 0.8586000204086304]"
      ]
     },
     "execution_count": 283,
     "metadata": {},
     "output_type": "execute_result"
    }
   ],
   "source": [
    "model.evaluate(X_test, y_test)"
   ]
  },
  {
   "cell_type": "markdown",
   "metadata": {},
   "source": [
    "Que no está nada de mal para una tarea súper compleja. Uno además puede hacer _fine tune_ de varios hiperparámetros para mejorar el rendimiento. Si bien podemos usar `GridSearchCV` para encontrar buenos hiperparámetros, hay librerías optimizadas para Keras. Una de ellas es [la siguiente librería](https://www.tensorflow.org/tutorials/keras/keras_tuner).\n",
    "\n",
    "## Regresión y redes neuronales.\n",
    "\n",
    "Como mencionamos antes, para hacer regresión con una red neuronal, la técnica que se usa en general es tener una única neurona de salida (y generalmente, sin una función de activación asociada), además de cambiar la función de pérdida por `mean_squared_error`. Vamos a ver un ejemplo."
   ]
  },
  {
   "cell_type": "code",
   "execution_count": 324,
   "metadata": {},
   "outputs": [],
   "source": [
    "# Generamos el dataset\n",
    "\n",
    "m = 100\n",
    "X = 2 * np.random.rand(m, 1) - 1\n",
    "y = (0.2 + 0.1 * X + 0.5 * X**2 + np.random.randn(m, 1)/10).ravel()\n",
    "\n",
    "keras.backend.clear_session()\n",
    "\n",
    "model = keras.models.Sequential([\n",
    "    keras.layers.Dense(100, activation=\"relu\", input_shape=X.shape[1:]),\n",
    "    keras.layers.Dense(1)\n",
    "])\n",
    "model.compile(loss=\"mean_squared_error\", optimizer=keras.optimizers.SGD(lr=1e-2))\n",
    "history = model.fit(X, y, epochs=100, verbose=0)"
   ]
  },
  {
   "cell_type": "code",
   "execution_count": 325,
   "metadata": {},
   "outputs": [
    {
     "name": "stdout",
     "output_type": "stream",
     "text": [
      "WARNING:tensorflow:11 out of the last 11 calls to <function Model.make_predict_function.<locals>.predict_function at 0x14c9fbee0> triggered tf.function retracing. Tracing is expensive and the excessive number of tracings could be due to (1) creating @tf.function repeatedly in a loop, (2) passing tensors with different shapes, (3) passing Python objects instead of tensors. For (1), please define your @tf.function outside of the loop. For (2), @tf.function has experimental_relax_shapes=True option that relaxes argument shapes that can avoid unnecessary retracing. For (3), please refer to https://www.tensorflow.org/tutorials/customization/performance#python_or_tensor_args and https://www.tensorflow.org/api_docs/python/tf/function for  more details.\n"
     ]
    },
    {
     "data": {
      "text/plain": [
       "[<matplotlib.lines.Line2D at 0x150d024f0>]"
      ]
     },
     "execution_count": 325,
     "metadata": {},
     "output_type": "execute_result"
    },
    {
     "data": {
      "image/png": "[encoded data removed]",
      "text/plain": [
       "<Figure size 432x288 with 1 Axes>"
      ]
     },
     "metadata": {
      "needs_background": "light"
     },
     "output_type": "display_data"
    }
   ],
   "source": [
    "X_p = np.arange(-1.5, 1.5, 0.1)\n",
    "X_p = X_p.reshape(-1, 1)\n",
    "\n",
    "plt.plot(X_p, model.predict(X_p))\n",
    "plt.plot(X, y, 'bs')"
   ]
  }
 ],
 "metadata": {
  "kernelspec": {
   "display_name": "Python 3",
   "language": "python",
   "name": "python3"
  },
  "language_info": {
   "codemirror_mode": {
    "name": "ipython",
    "version": 3
   },
   "file_extension": ".py",
   "mimetype": "text/x-python",
   "name": "python",
   "nbconvert_exporter": "python",
   "pygments_lexer": "ipython3",
   "version": "3.8.6"
  }
 },
 "nbformat": 4,
 "nbformat_minor": 4
}
