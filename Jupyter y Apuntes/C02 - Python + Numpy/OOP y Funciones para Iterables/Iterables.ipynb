{
 "cells": [
  {
   "cell_type": "markdown",
   "metadata": {},
   "source": [
    "# Funciones para iterables\n",
    "\n",
    "En este Notebook vamos a repasar las funciones para iterable, es decir, elementos que se pueden recorrer. Los iterables más destacados son las **listas**, pero estas funciones también se pueden aplicar sobre otros tipos. En concreto, aprenderemos a hacer:\n",
    "\n",
    "- `funciones lambda`\n",
    "- `map`\n",
    "- `reduce`\n",
    "- `filter`\n",
    "- `zip`\n",
    "- `sorted`\n",
    "\n",
    "## Funciones lambda\n",
    "\n",
    "Las funciones lambda son funciones _inline_ y anónimas que vamos a utilizar para las demás herramientas. Por ejemplo, una función que eleve un número al cuadrado es la siguiente:"
   ]
  },
  {
   "cell_type": "code",
   "execution_count": 4,
   "metadata": {},
   "outputs": [
    {
     "name": "stdout",
     "output_type": "stream",
     "text": [
      "81\n"
     ]
    }
   ],
   "source": [
    "square = lambda n : n**2\n",
    "\n",
    "s = square(9)\n",
    "print(s)"
   ]
  },
  {
   "cell_type": "markdown",
   "metadata": {},
   "source": [
    "Como vemos, aquí asignamos a la variable square una función que toma un número y lo eleva al cuadrado. Ahora vamos a hacer algunos usos de esto.\n",
    "\n",
    "## Map\n",
    "\n",
    "La función `map` toma un iterable y una función y aplica esa función a todos los elementos. Muchas veces, esta función no es algo que vamos a utilizar durante todo el código, por lo que se prefiere utilizar una función `lambda` para hacer esto de manera _inline_. Veamos un ejemplo en que tomamos una lista y elevamos al cuadrado todos los números."
   ]
  },
  {
   "cell_type": "code",
   "execution_count": 5,
   "metadata": {},
   "outputs": [
    {
     "name": "stdout",
     "output_type": "stream",
     "text": [
      "[1, 4, 9, 16, 25]\n"
     ]
    }
   ],
   "source": [
    "l = [1, 2, 3, 4, 5]\n",
    "squares = map(lambda n : n**2, l)\n",
    "\n",
    "print(list(squares))"
   ]
  },
  {
   "cell_type": "markdown",
   "metadata": {},
   "source": [
    "Como vemos, en el primer parámetro, `map` recibe una función. En este caso es una función lambda, pero lo importante es que sea una función que reciba un argumento y retorne un valor. Ojo que aquí tenemos que transformar a la variable `squares` en lista, ya que lo que nos retorna la función `map` no es una lista.\n",
    "\n",
    "## Reduce\n",
    "\n",
    "La función `reduce` recibe una función de dos argumentos que los va a juntar en uno solo y una lista. Veamos esto con un ejemplo. Vamos a hacer una función que recibe una lista y suma todos los números de esa lista."
   ]
  },
  {
   "cell_type": "code",
   "execution_count": 6,
   "metadata": {},
   "outputs": [
    {
     "name": "stdout",
     "output_type": "stream",
     "text": [
      "15\n"
     ]
    }
   ],
   "source": [
    "from functools import reduce\n",
    "\n",
    "l = [1, 2, 3, 4, 5]\n",
    "sum_list = reduce(lambda x, y: x + y, l)\n",
    "\n",
    "print(sum_list)"
   ]
  },
  {
   "cell_type": "markdown",
   "metadata": {},
   "source": [
    "Aquí la función toma dos números y retorna su suma. Entonces, para este caso, el procedimiento se ejecuta de la siguiente forma:\n",
    "\n",
    "![Procedimiento de la función `reduce`.](reduce.png)"
   ]
  },
  {
   "cell_type": "markdown",
   "metadata": {},
   "source": [
    "Lo que es claro es que vamos \"reduciendo\" la lista de a pares con la función que toma dos argumentos y los junta en 1. Notamos además que la función `reduce` se tiene que importar.\n",
    "\n",
    "## Filter\n",
    "\n",
    "La función `filter` recibe dos parámetros: una función que recibe un elemento y retorna un _boolean_ y un iterable. Se retorna un iterable sólo con los elementos que retornaron `True`. Veamos un ejemplo de `filter`en que se recibe una lista y se dejan solo los números pares de esa lista."
   ]
  },
  {
   "cell_type": "code",
   "execution_count": 8,
   "metadata": {},
   "outputs": [
    {
     "name": "stdout",
     "output_type": "stream",
     "text": [
      "[2, 8, 24]\n"
     ]
    }
   ],
   "source": [
    "l = [1, 2, 7, 8, 11, 24]\n",
    "even_numbers = filter(lambda x : x % 2 == 0, l)\n",
    "\n",
    "print(list(even_numbers))"
   ]
  },
  {
   "cell_type": "markdown",
   "metadata": {},
   "source": [
    "Así, solo los elementos que retornan `True` al pasar por la función `lambda x : x % 2 == 0` son retornados en el iterable de output. Recordemos que `%` es el operador módulo, que retorna el resto de la divión entera. Ahora vamos a ver un ejemplo de `filter` en una lista de diccionarios."
   ]
  },
  {
   "cell_type": "code",
   "execution_count": 12,
   "metadata": {},
   "outputs": [
    {
     "name": "stdout",
     "output_type": "stream",
     "text": [
      "[{'number': 1}, {'number': 13}]\n"
     ]
    }
   ],
   "source": [
    "l = [\n",
    "     {'number': 1},\n",
    "     {'number': -12},\n",
    "     {'number': 13},\n",
    "     {'number': -1},\n",
    "    ]\n",
    "\n",
    "positive_numbers = filter(lambda d : d['number'] > 0, l)\n",
    "\n",
    "print(list(positive_numbers))"
   ]
  },
  {
   "cell_type": "markdown",
   "metadata": {},
   "source": [
    "Aquí ingresamos a la _key_ `'number'` del diccionario y verificamos que el _value_ sea mayor que `0`. Podemos extender esto para objetos, tuplas, y varios otros tipos.\n",
    "\n",
    "## Zip\n",
    "\n",
    "La función `zip` nos sirve para empaquetar elementos de varios iterables, dejando un único iterable de tuplas con los elementos originales. Vamos a ver un ejemplo."
   ]
  },
  {
   "cell_type": "code",
   "execution_count": 10,
   "metadata": {},
   "outputs": [
    {
     "name": "stdout",
     "output_type": "stream",
     "text": [
      "[(1, 5), (2, 6), (3, 7), (4, 8)]\n"
     ]
    }
   ],
   "source": [
    "l1 = [1, 2, 3, 4]\n",
    "l2 = [5, 6, 7, 8]\n",
    "\n",
    "l = zip(l1, l2)\n",
    "print(list(l))"
   ]
  },
  {
   "cell_type": "markdown",
   "metadata": {},
   "source": [
    "Vemos que el primer elemento de `l` es una tupla con los elementos en la posición `0` de las listas `l1` y `l2`, y que esto es análogo para las posiciones que vienen.\n",
    "\n",
    "## Sorted\n",
    "\n",
    "La función `sorter` recibe un iterable y lo retorna ordenado. Por ejemplo:"
   ]
  },
  {
   "cell_type": "code",
   "execution_count": 13,
   "metadata": {},
   "outputs": [
    {
     "name": "stdout",
     "output_type": "stream",
     "text": [
      "[1, 2, 3, 4, 5]\n"
     ]
    }
   ],
   "source": [
    "l = [5, 4, 3, 2, 1]\n",
    "l = sorted(l)\n",
    "\n",
    "print(l)"
   ]
  },
  {
   "cell_type": "markdown",
   "metadata": {},
   "source": [
    "Ahora bien, si tenemos objetos, diccionarios o tuplas en vez de elementos simples, podemos señalarle por que _llave_ queremos que busque. Veamos un ejemplo en el que ordenamos una lista de tuplas."
   ]
  },
  {
   "cell_type": "code",
   "execution_count": 14,
   "metadata": {},
   "outputs": [
    {
     "name": "stdout",
     "output_type": "stream",
     "text": [
      "[(-3, 4), (0, 19), (1, 2), (20, 30)]\n"
     ]
    }
   ],
   "source": [
    "l = [(1, 2), (0, 19), (-3, 4), (20, 30)]\n",
    "\n",
    "l = sorted(l, key=lambda element: element[0])\n",
    "print(l)"
   ]
  },
  {
   "cell_type": "markdown",
   "metadata": {},
   "source": [
    "Aquí la función `lambda` toma una tupla y retorna su primer elemento, así que a cada tupla la va a representar su primer elemento. Ahora también podemos usar la opción `reverse=True` para ordenar en el sentido contrario. Vamos ahora a ordenar **por el segundo elemento de la tupla** pero en sentido contrario."
   ]
  },
  {
   "cell_type": "code",
   "execution_count": 15,
   "metadata": {},
   "outputs": [
    {
     "name": "stdout",
     "output_type": "stream",
     "text": [
      "[(20, 30), (0, 19), (-3, 4), (1, 2)]\n"
     ]
    }
   ],
   "source": [
    "l = [(1, 2), (0, 19), (-3, 4), (20, 30)]\n",
    "\n",
    "l = sorted(l, key=lambda element: element[1], reverse=True)\n",
    "print(l)"
   ]
  },
  {
   "cell_type": "markdown",
   "metadata": {},
   "source": [
    "## Palabras al cierre\n",
    "\n",
    "Y así podemos trabajar con funciones para iterables. Parte de este tutorial está inspirado en [este artículo](https://medium.com/better-programming/lambda-map-and-filter-in-python-4935f248593). Puedes revisar más sobre este tema en la documentación oficial de Python."
   ]
  }
 ],
 "metadata": {
  "kernelspec": {
   "display_name": "Python 3",
   "language": "python",
   "name": "python3"
  },
  "language_info": {
   "codemirror_mode": {
    "name": "ipython",
    "version": 3
   },
   "file_extension": ".py",
   "mimetype": "text/x-python",
   "name": "python",
   "nbconvert_exporter": "python",
   "pygments_lexer": "ipython3",
   "version": "3.8.5"
  }
 },
 "nbformat": 4,
 "nbformat_minor": 4
}
