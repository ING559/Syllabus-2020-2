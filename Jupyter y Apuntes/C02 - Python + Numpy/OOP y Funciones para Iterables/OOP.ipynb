{
 "cells": [
  {
   "cell_type": "markdown",
   "metadata": {},
   "source": [
    "# Introducción a la programación orientada a objetos\n",
    "\n",
    "La programación orientada a objetos es un paradigma en que se definen clases y métodos para representar objetos y hacerlos interactuar entre ellos. Podemos pensar que cuando definimos una clase nosotros estamos definiendo un nuevo **tipo de dato**, que tiene las propiedades que nosotros estimemos convenientes. Nosotros vamos a **instanciar** objetos de nuestras clases. Para seguir veamos el ejemplo del _notebook_ anterior. \n",
    "\n",
    "## El constructor\n",
    "\n",
    "Vamos a crear una clase `Point` que permita instanciar puntos en un plano de dos dimensiones."
   ]
  },
  {
   "cell_type": "code",
   "execution_count": 3,
   "metadata": {},
   "outputs": [],
   "source": [
    "class Point:\n",
    "    def __init__(self, x, y):\n",
    "        self.x = x\n",
    "        self.y = y"
   ]
  },
  {
   "cell_type": "markdown",
   "metadata": {},
   "source": [
    "Aquí lo que estamos haciendo es definir un nuevo tipo llamado `Point` que va a tener dos atributos: `x` e `y`. La función `__init__` es una función reservada que nos permite **construir** los elementos de nuestra nueva clase. Recibe tres argumentos: `self`, `x` e `y`. El primero es para hacer referencia al objeto que estamos creando, que puede llevar cualquier nombre, pero por convención, usamos `self`. \n",
    "\n",
    "Luego pasamos dos valores numéricos `x` e `y` que van a ser asignados como los valores respectivos `self.x` y `self.y` que son los atributos de la clase. Entonces así podremos crear puntos. Veamos cómo hacer esto."
   ]
  },
  {
   "cell_type": "code",
   "execution_count": 5,
   "metadata": {},
   "outputs": [
    {
     "name": "stdout",
     "output_type": "stream",
     "text": [
      "1\n",
      "3\n"
     ]
    }
   ],
   "source": [
    "p = Point(1, 3)\n",
    "\n",
    "print(p.x)\n",
    "print(p.y)"
   ]
  },
  {
   "cell_type": "markdown",
   "metadata": {},
   "source": [
    "Vemos que hemos creado un punto llamado `p`. Como dijimos anteriormente, este punto tiene dos atributos `x` e `y` que se acceden como `p.x` y `p.y` respectivamente. Estos son los atributos. Vamos a decir que `p` es una instancia de la clase `Point`, porque lo que hicimos fue tomar el constructor, entregarle los atributos 1 y 3 (esto es `Point(1, 3)`) y con esto se nos crea un punto que almacenamos en la variable `p`. Nosotros podemos crear tantos puntos como queramos."
   ]
  },
  {
   "cell_type": "markdown",
   "metadata": {},
   "source": [
    "## Métodos de la clase\n",
    "\n",
    "Los métodos son funciones que se aplican sobre las instancias de los objetos de la clase. Por ejemplo, podemos crear un método llamado `move(self, delta_x, delta_y)` que nos permita entregarle a un punto, como nuestro punto `p`, un $\\Delta x$ y u $\\Delta y$ para mover el punto en el plano. Veamos cómo hacer esto (vamos a redefirnir la clase)."
   ]
  },
  {
   "cell_type": "code",
   "execution_count": 7,
   "metadata": {},
   "outputs": [
    {
     "name": "stdout",
     "output_type": "stream",
     "text": [
      "1\n",
      "3\n",
      "Nueva ubicación:\n",
      "6\n",
      "13\n"
     ]
    }
   ],
   "source": [
    "class Point:\n",
    "    def __init__(self, x, y):\n",
    "        self.x = x\n",
    "        self.y = y\n",
    "    \n",
    "    def move(self, delta_x, delta_y):\n",
    "        self.x = self.x + delta_x\n",
    "        self.y = self.y + delta_y\n",
    "        \n",
    "p = Point(1, 3)\n",
    "\n",
    "print(p.x)\n",
    "print(p.y)\n",
    "\n",
    "# Lo vamos a trasladar\n",
    "p.move(5, 10)\n",
    "\n",
    "print('Nueva ubicación:')\n",
    "print(p.x)\n",
    "print(p.y)"
   ]
  },
  {
   "cell_type": "markdown",
   "metadata": {},
   "source": [
    "Aquí lo que pasó es que creamos nuestro punto `p` de coordenadas $(1,3)$, y luego aquel punto usó el método move (por eso es `p.move`, porque fue ese punto el que se movió). Luego si comprobamos las coordenadas del punto, veremos que este fue el que se movió. \n",
    "\n",
    "Notamos que la definición del método está dentro de la definición de la clase. Aquí, el método `move` recibe como primer parámetro `self`. Nuevamente, esto es para hacer referencia al objeto (la instancia de punto) que está llamando al método. entonces cuando `p` es la instancia que llama al método, podemos pensar que la línea `self.x = self.x + delta_x` cambia por `p.x = p.x + delta_x`. Luego los `delta_x` y `delta_y` que recibe `move` son los que se sumarán al atributo del punto, y así es como logramos hacer funcionar esto.\n",
    "\n",
    "## Imprimiendo objetos"
   ]
  },
  {
   "cell_type": "markdown",
   "metadata": {},
   "source": [
    "Notamos que si queremos imprimir un objeto de una clase, lo que se nos imprime es su dirección en memoria."
   ]
  },
  {
   "cell_type": "code",
   "execution_count": 8,
   "metadata": {},
   "outputs": [
    {
     "name": "stdout",
     "output_type": "stream",
     "text": [
      "<__main__.Point object at 0x1109ac310>\n"
     ]
    }
   ],
   "source": [
    "print(p)"
   ]
  },
  {
   "cell_type": "markdown",
   "metadata": {},
   "source": [
    "Para poder imprimir un objeto, debemos definir un método llamado `__str__`. Si te llama la atención y te preguntas por qué están estos nombres con dos guiones bajo, la respuesta es que son métodos reservados que hacer cosas específicas. Por ejemplo, `__init__` es el constructor, mientras que `__str__` serializa como string un objeto. Como estos métodos hay varios otros, y los puedes buscar en la documentación oficial de Python. Ahora redefinamos la clase para agregar el método que nos permite imprimir objetos."
   ]
  },
  {
   "cell_type": "code",
   "execution_count": 11,
   "metadata": {},
   "outputs": [
    {
     "name": "stdout",
     "output_type": "stream",
     "text": [
      "Punto de coordenadas (1, 3)\n"
     ]
    }
   ],
   "source": [
    "class Point:\n",
    "    def __init__(self, x, y):\n",
    "        self.x = x\n",
    "        self.y = y\n",
    "    \n",
    "    def move(self, delta_x, delta_y):\n",
    "        self.x = self.x + delta_x\n",
    "        self.y = self.y + delta_y\n",
    "        \n",
    "    def __str__(self):\n",
    "        return f'Punto de coordenadas ({self.x}, {self.y})'\n",
    "    \n",
    "p = Point(1, 3)\n",
    "\n",
    "print(p)"
   ]
  },
  {
   "cell_type": "markdown",
   "metadata": {},
   "source": [
    "Aquí en esta función definimos un _string_ formateable (ojo, esto no es una magia de las clases, estos strings están disponibles desde Python 3.6) al que le inyectamos el valor de los atributos, y lo retornamos. Entonces cuando llamamos `print(p)` lo que hacemos es usar el _string_ que retorna la función `__str__`. Ahora, si no eres familiar con el concepto de métodos que **retornan** un valor, vamos a mostrar un último ejemplo.\n",
    "\n",
    "## Funciones que retornan valores\n",
    "\n",
    "Vamos a definir un método que calcula la distancia de un punto al origen. El valor se va a retornar: esto es, se va a generar el número y lo vamos a poder guardar en una variable. Esto es diferente al método `move`, en que cambiábamos los **atributos** de la instancia, pero no retornabamos ningún valor para guardar."
   ]
  },
  {
   "cell_type": "code",
   "execution_count": 12,
   "metadata": {},
   "outputs": [
    {
     "name": "stdout",
     "output_type": "stream",
     "text": [
      "La distancia al origen es 5.0\n"
     ]
    }
   ],
   "source": [
    "class Point:\n",
    "    def __init__(self, x, y):\n",
    "        self.x = x\n",
    "        self.y = y\n",
    "    \n",
    "    def move(self, delta_x, delta_y):\n",
    "        self.x = self.x + delta_x\n",
    "        self.y = self.y + delta_y\n",
    "    \n",
    "    def distance_to_0(self):\n",
    "        distance = (self.x**2 + self.y**2)**(1/2)\n",
    "        return distance\n",
    "        \n",
    "    def __str__(self):\n",
    "        return f'Punto de coordenadas ({self.x}, {self.y})'\n",
    "    \n",
    "p = Point(3, 4)\n",
    "d = p.distance_to_0()\n",
    "print(f'La distancia al origen es {d}')"
   ]
  },
  {
   "cell_type": "markdown",
   "metadata": {},
   "source": [
    "Como vemos, aquí estamos definiendo un punto de cordenadas $(3, 4)$. El método `distance_to_0` calcula la distancia euclideana al origen. Este valor se retorna, así que el resultado de `p.distance_to_0()`, que es la distancia del punto `p` al origen, se almacena en la variable `d`. Luego imprimimos esta variable."
   ]
  }
 ],
 "metadata": {
  "kernelspec": {
   "display_name": "Python 3",
   "language": "python",
   "name": "python3"
  },
  "language_info": {
   "codemirror_mode": {
    "name": "ipython",
    "version": 3
   },
   "file_extension": ".py",
   "mimetype": "text/x-python",
   "name": "python",
   "nbconvert_exporter": "python",
   "pygments_lexer": "ipython3",
   "version": "3.8.5"
  }
 },
 "nbformat": 4,
 "nbformat_minor": 4
}
